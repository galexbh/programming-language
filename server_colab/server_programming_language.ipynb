{
  "nbformat": 4,
  "nbformat_minor": 0,
  "metadata": {
    "colab": {
      "provenance": []
    },
    "kernelspec": {
      "name": "python3",
      "display_name": "Python 3"
    }
  },
  "cells": [
    {
      "cell_type": "markdown",
      "source": [
        "## Installing the necessary dependencies\n",
        "\n",
        "Lark is a parsing library for defining and parsing formal grammars, Anvil Uplink is a library for interacting with web applications built with Anvil, and Colab-Env is a package for accessing environment variables in Google Colaboratory."
      ],
      "metadata": {
        "id": "dGVkz3brfSaj"
      }
    },
    {
      "cell_type": "code",
      "metadata": {
        "id": "5BvNgFgk5dE2"
      },
      "source": [
        "from IPython.core.display import clear_output\n",
        "\n",
        "!pip install -q lark\n",
        "!pip install anvil-uplink\n",
        "!pip install colab-env --upgrade\n",
        "clear_output()"
      ],
      "execution_count": 2,
      "outputs": []
    },
    {
      "cell_type": "markdown",
      "source": [
        "## Environment settings"
      ],
      "metadata": {
        "id": "Tr3OE4N2faFm"
      }
    },
    {
      "cell_type": "code",
      "metadata": {
        "id": "EML6wBYQ5fiM",
        "outputId": "1d91d78f-3038-4d86-9b4e-5bab39987a63",
        "colab": {
          "base_uri": "https://localhost:8080/"
        }
      },
      "source": [
        "import anvil.server\n",
        "import colab_env\n",
        "import os"
      ],
      "execution_count": 3,
      "outputs": [
        {
          "output_type": "stream",
          "name": "stdout",
          "text": [
            "Mounted at /content/gdrive\n"
          ]
        }
      ]
    },
    {
      "cell_type": "markdown",
      "source": [
        "In order to add the environment variable to our drive:\n",
        "\n",
        "```python\n",
        "colab_env.envvar_handler.add_env(\"TEST\", \"HELLO WORLD!\", overwrite=True)\n",
        "```"
      ],
      "metadata": {
        "id": "-GoP34cxrM3x"
      }
    },
    {
      "cell_type": "code",
      "source": [
        "!more gdrive/My\\ Drive/vars.env\n",
        "clear_output()"
      ],
      "metadata": {
        "id": "f1HFuuska8Ii"
      },
      "execution_count": 4,
      "outputs": []
    },
    {
      "cell_type": "code",
      "metadata": {
        "id": "MA9-qSCOSckw",
        "colab": {
          "base_uri": "https://localhost:8080/"
        },
        "outputId": "e1ba63c9-44e6-423d-e406-9b4ff6e3dee2"
      },
      "source": [
        "anvil.server.connect(os.getenv(\"KEY_ANVIL_PL\"))"
      ],
      "execution_count": 5,
      "outputs": [
        {
          "output_type": "stream",
          "name": "stdout",
          "text": [
            "Connecting to wss://anvil.works/uplink\n",
            "Anvil websocket open\n",
            "Connected to \"Private link to branch master\" as SERVER\n"
          ]
        }
      ]
    },
    {
      "cell_type": "markdown",
      "source": [
        "## Parser Grammar\n",
        "\n",
        "1. **?start:** This rule sets the starting point for parsing. In this case, it is set to command, which means that a command is the starting point for parsing.\n",
        "\n",
        "2. **?command:** This rule defines the two possible commands in the grammar: printResult and assign. The -> syntax is used to assign a semantic action to each output, which is executed when the syntax is parsed. In this case, it is used to generate a specific output for each command.\n",
        "\n",
        "3. **?expression:** This rule defines the different forms of expressions in the grammar, such as additions, concatenations, repetitions, strings, numbers and variable names. The outputs are defined in a specific order, which determines the evaluation priority.\n",
        "\n",
        "4. **?sum_rest:** This rule defines the addition and subtraction of expressions. There can be multiple additions and subtractions chained together, and they are evaluated from left to right.\n",
        "\n",
        "5. **?concatenation:** This rule defines the concatenation of expressions by using the * operator. There can also be multiple chained concatenations, and they are evaluated from left to right.\n",
        "\n",
        "6. **?repetition:** This rule defines the repetition of expressions by using the * operator. There can be multiple chained repetitions, and they are evaluated from left to right.\n",
        "\n",
        "7. **?atom:** This rule defines the different types of atoms in the grammar, such as strings, numbers and variable names.\n",
        "\n",
        "8. **%import:** This rule is used to import terminals (tokens) from the PEG common library. In this case, CNAME (for variable names), ESCAPED_STRING (for strings) and SIGNED_INT (for integers) are imported.\n",
        "\n",
        "9. **%ignore:** This rule is used to ignore whitespace in the input during parsing.\n"
      ],
      "metadata": {
        "id": "7WSfUaLgpsGx"
      }
    },
    {
      "cell_type": "code",
      "source": [
        "grammar = r\"\"\"\n",
        "    ?start: command\n",
        "\n",
        "    ?command: \"imprimirResultado\" \"(\" expression \")\"    -> imprimir_resultado\n",
        "           | NAME \"=\" expression                        -> asignacion\n",
        "\n",
        "    ?expression: sum_rest                             -> expression\n",
        "               | concatenacion                        -> expression\n",
        "               | repeticion                           -> expression\n",
        "               | STRING                               -> expression\n",
        "               | NUMBER                               -> expression\n",
        "               | NAME                                 -> expression\n",
        "               | \"(\" expression \")\"                   -> expression\n",
        "\n",
        "    ?sum_rest: sum_rest \"+\" concatenacion             -> suma\n",
        "             | sum_rest \"-\" concatenacion             -> resta\n",
        "             | concatenacion                         -> suma_resta\n",
        "\n",
        "    ?concatenacion: concatenacion \"*\" repeticion      -> concatenar\n",
        "                  | repeticion                        -> concatenacion\n",
        "\n",
        "    ?repeticion: atom \"*\" repeticion                  -> repetir\n",
        "               | atom                               -> repeticion\n",
        "\n",
        "    ?atom: STRING                                    -> cadena\n",
        "         | NUMBER                                    -> numero\n",
        "         | NAME                                      -> variable\n",
        "         | \"(\" expression \")\"                        -> parentesis\n",
        "\n",
        "    %import common.CNAME -> NAME\n",
        "    %import common.ESCAPED_STRING -> STRING\n",
        "    %import common.SIGNED_INT -> NUMBER\n",
        "    %import common.WS\n",
        "    %ignore WS\n",
        "\"\"\""
      ],
      "metadata": {
        "id": "cQwEY9FcpqhP"
      },
      "execution_count": 6,
      "outputs": []
    },
    {
      "cell_type": "markdown",
      "source": [
        "## Tree construction\n",
        "\n",
        "This function uses the Lark module to parse an input according to a specified grammar, collapses the ambiguities into the resulting syntax tree, and then displays the tree in a PNG plot using matplotlib. The tree image is saved to a file and displayed in a display window.\n",
        "\n",
        "Example:\n",
        "```python\n",
        "plot_trees('imprimirResultado(test*1)$')\n",
        "```"
      ],
      "metadata": {
        "id": "MTFalAK6pucK"
      }
    },
    {
      "cell_type": "code",
      "metadata": {
        "id": "Z9FGGe-2-V79"
      },
      "source": [
        "from lark import Lark, tree\n",
        "from lark.visitors import CollapseAmbiguities\n",
        "import matplotlib.pyplot as plt\n",
        "import anvil.media\n",
        "\n",
        "@anvil.server.callable\n",
        "def plot_trees(line_code:str, grammar:str = grammar, start:str='command'):\n",
        "    parser = Lark(grammar=grammar, start=start, ambiguity='explicit')  \n",
        "    parsed = parser.parse(line_code)\n",
        "    trees = CollapseAmbiguities().transform(parsed)\n",
        "    for t in trees:\n",
        "        tree.pydot__tree_to_png(t, filename='/content/gdrive/MyDrive/server_programming/img/tree.png', rankdir='TB')\n",
        "        plt.figure(figsize=(64,64))\n",
        "\n",
        "        # Load the generated image into memory\n",
        "        return anvil.media.from_file('/content/gdrive/MyDrive/server_programming/img/tree.png', 'image/png')"
      ],
      "execution_count": 7,
      "outputs": []
    },
    {
      "cell_type": "markdown",
      "source": [
        "## Lexical analyzer\n",
        "\n",
        "It is responsible for identifying and classifying tokens in a line of input code.\n",
        "\n",
        "Example:\n",
        "```python\n",
        "tokens = lexical_analyzer('imprimirResultado(test*1)')\n",
        "if tokens:\n",
        "    print(tokens)\n",
        "```"
      ],
      "metadata": {
        "id": "TJeQVRGTVBxM"
      }
    },
    {
      "cell_type": "code",
      "source": [
        "import re\n",
        "\n",
        "# Definition of regular expression patterns for tokens\n",
        "tokens = [\n",
        "    ('KEYWORD', r'imprimirResultado'),\n",
        "    ('ASSIGNMENT', r'='),\n",
        "    ('PLUS', r'\\+'),\n",
        "    ('MINUS', r'\\-'),\n",
        "    ('MULTIPLICATION', r'\\*'),\n",
        "    ('CONCATENATION', r'\\-\\>'),\n",
        "    ('INTEGER', r'\\d+'),\n",
        "    ('IDENTIFIER', r'[A-Za-z_][A-Za-z0-9_]*'),\n",
        "    ('STRING', r'\"[^\"]*\"'),\n",
        "    ('OPEN_PARENTHESIS', r'\\('),\n",
        "    ('CLOSE_PARENTHESIS', r'\\)'),\n",
        "    ('WHITESPACE', r'\\s+'),\n",
        "]\n",
        "\n",
        "@anvil.server.callable\n",
        "# Function for performing lexical analysis\n",
        "def lexical_analyzer(line_code:str):\n",
        "    tokens_found = []\n",
        "    position = 0\n",
        "\n",
        "    while position < len(line_code):\n",
        "        match = None\n",
        "\n",
        "        # Try to match with each regular expression pattern\n",
        "        for token_name, pattern in tokens:\n",
        "            regex = re.compile(pattern)\n",
        "            match = regex.match(line_code, position)\n",
        "            if match:\n",
        "                value = match.group(0)\n",
        "                tokens_found.append((token_name, value))\n",
        "                position = match.end(0)\n",
        "                break\n",
        "\n",
        "        # If no valid token is found, display an error message\n",
        "        if not match:\n",
        "            print(f\"Error: Invalid token at position {position}: '{line_code[position:]}'\")\n",
        "            return []\n",
        "\n",
        "    return tokens_found"
      ],
      "metadata": {
        "id": "u-r1zqM1VANa"
      },
      "execution_count": 8,
      "outputs": []
    },
    {
      "cell_type": "markdown",
      "source": [],
      "metadata": {
        "id": "8ZVA-tYuq5-b"
      }
    },
    {
      "cell_type": "markdown",
      "metadata": {
        "id": "Y54Z7Ano6wT4"
      },
      "source": [
        "#### So the notebook is always available to the web app"
      ]
    },
    {
      "cell_type": "code",
      "metadata": {
        "id": "JF1L5rHt6wh6"
      },
      "source": [
        "anvil.server.wait_forever()"
      ],
      "execution_count": null,
      "outputs": []
    },
    {
      "cell_type": "markdown",
      "source": [
        "## Bibliography\n",
        "\n",
        "- https://chat.openai.com/\n",
        "- https://lark-parser.readthedocs.io/en/latest/_static/lark_cheatsheet.pdf\n",
        "- https://medium.com/towards-data-science/structure-and-automated-workflow-for-a-machine-learning-project-2fa30d661c1e\n",
        "- https://medium.com/@mbednarski/creating-a-programming-language-part-2-23015630cd01\n",
        "- https://www.youtube.com/watch?v=ivWp6XTtFjo\n",
        "- https://anvil.works/docs/overview\n",
        "- https://anvil.works/learn/tutorials/google-colab-to-web-app\n",
        "- Inestroza Engineer Class 3, 4. (2020, July). [Video].\n"
      ],
      "metadata": {
        "id": "OlJ_37RLCj-7"
      }
    }
  ]
}